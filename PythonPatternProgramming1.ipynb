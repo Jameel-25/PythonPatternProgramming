{
 "cells": [
  {
   "cell_type": "code",
   "execution_count": 45,
   "id": "6c3b4cca-9228-4b18-87eb-c8ba177b7ff0",
   "metadata": {},
   "outputs": [
    {
     "name": "stdin",
     "output_type": "stream",
     "text": [
      "Enter the number of rows: 5\n"
     ]
    },
    {
     "name": "stdout",
     "output_type": "stream",
     "text": [
      "* * * * * \n",
      "* * * * * \n",
      "* * * * * \n",
      "* * * * * \n",
      "* * * * * \n"
     ]
    }
   ],
   "source": [
    "n=int(input(\"Enter the number of rows:\"))\n",
    "for i in range(1,n+1):\n",
    "    print(\"* \"*n,)"
   ]
  },
  {
   "cell_type": "code",
   "execution_count": 39,
   "id": "fa9da268-c86b-4f82-acdc-a9b46b6af286",
   "metadata": {},
   "outputs": [
    {
     "name": "stdin",
     "output_type": "stream",
     "text": [
      "Enter the number of rows: 5\n"
     ]
    },
    {
     "name": "stdout",
     "output_type": "stream",
     "text": [
      "1 1 1 1 1 \n",
      "2 2 2 2 2 \n",
      "3 3 3 3 3 \n",
      "4 4 4 4 4 \n",
      "5 5 5 5 5 \n"
     ]
    }
   ],
   "source": [
    "n=int(input(\"Enter the number of rows:\"))\n",
    "for i in range(1,n+1):\n",
    "    for j in range(1,n+1):\n",
    "        print(i,end=\" \")\n",
    "    print()"
   ]
  },
  {
   "cell_type": "code",
   "execution_count": 59,
   "id": "f39cc8a1-4e78-41c3-a246-3537cdd186d3",
   "metadata": {},
   "outputs": [
    {
     "name": "stdin",
     "output_type": "stream",
     "text": [
      "Enter the number of rows: 5\n"
     ]
    },
    {
     "name": "stdout",
     "output_type": "stream",
     "text": [
      "1 2 3 4 5 \n",
      "1 2 3 4 5 \n",
      "1 2 3 4 5 \n",
      "1 2 3 4 5 \n",
      "1 2 3 4 5 \n"
     ]
    }
   ],
   "source": [
    "n=int(input(\"Enter the number of rows:\"))\n",
    "for i in range(1,n+1):\n",
    "    for j in range(1,n+1):\n",
    "        print(j,end=\" \")\n",
    "    print()"
   ]
  },
  {
   "cell_type": "code",
   "execution_count": 63,
   "id": "aa12d762-f7a4-4436-9de6-0db882a9928e",
   "metadata": {},
   "outputs": [
    {
     "name": "stdin",
     "output_type": "stream",
     "text": [
      "Enter the number of rows: 26\n"
     ]
    },
    {
     "name": "stdout",
     "output_type": "stream",
     "text": [
      "AAAAAAAAAAAAAAAAAAAAAAAAAA\n",
      "BBBBBBBBBBBBBBBBBBBBBBBBBB\n",
      "CCCCCCCCCCCCCCCCCCCCCCCCCC\n",
      "DDDDDDDDDDDDDDDDDDDDDDDDDD\n",
      "EEEEEEEEEEEEEEEEEEEEEEEEEE\n",
      "FFFFFFFFFFFFFFFFFFFFFFFFFF\n",
      "GGGGGGGGGGGGGGGGGGGGGGGGGG\n",
      "HHHHHHHHHHHHHHHHHHHHHHHHHH\n",
      "IIIIIIIIIIIIIIIIIIIIIIIIII\n",
      "JJJJJJJJJJJJJJJJJJJJJJJJJJ\n",
      "KKKKKKKKKKKKKKKKKKKKKKKKKK\n",
      "LLLLLLLLLLLLLLLLLLLLLLLLLL\n",
      "MMMMMMMMMMMMMMMMMMMMMMMMMM\n",
      "NNNNNNNNNNNNNNNNNNNNNNNNNN\n",
      "OOOOOOOOOOOOOOOOOOOOOOOOOO\n",
      "PPPPPPPPPPPPPPPPPPPPPPPPPP\n",
      "QQQQQQQQQQQQQQQQQQQQQQQQQQ\n",
      "RRRRRRRRRRRRRRRRRRRRRRRRRR\n",
      "SSSSSSSSSSSSSSSSSSSSSSSSSS\n",
      "TTTTTTTTTTTTTTTTTTTTTTTTTT\n",
      "UUUUUUUUUUUUUUUUUUUUUUUUUU\n",
      "VVVVVVVVVVVVVVVVVVVVVVVVVV\n",
      "WWWWWWWWWWWWWWWWWWWWWWWWWW\n",
      "XXXXXXXXXXXXXXXXXXXXXXXXXX\n",
      "YYYYYYYYYYYYYYYYYYYYYYYYYY\n",
      "ZZZZZZZZZZZZZZZZZZZZZZZZZZ\n"
     ]
    }
   ],
   "source": [
    "n=int(input(\"Enter the number of rows:\"))\n",
    "for i in range(1,n+1):\n",
    "    for j in range(1,n+1):\n",
    "        print(chr(64+i),end=\"\")\n",
    "    print()"
   ]
  },
  {
   "cell_type": "code",
   "execution_count": 65,
   "id": "f9487991-b1cc-4386-ae22-b58d39e399ca",
   "metadata": {},
   "outputs": [
    {
     "name": "stdin",
     "output_type": "stream",
     "text": [
      "Enter the number of rows: 26\n"
     ]
    },
    {
     "name": "stdout",
     "output_type": "stream",
     "text": [
      "ABCDEFGHIJKLMNOPQRSTUVWXYZ\n",
      "ABCDEFGHIJKLMNOPQRSTUVWXYZ\n",
      "ABCDEFGHIJKLMNOPQRSTUVWXYZ\n",
      "ABCDEFGHIJKLMNOPQRSTUVWXYZ\n",
      "ABCDEFGHIJKLMNOPQRSTUVWXYZ\n",
      "ABCDEFGHIJKLMNOPQRSTUVWXYZ\n",
      "ABCDEFGHIJKLMNOPQRSTUVWXYZ\n",
      "ABCDEFGHIJKLMNOPQRSTUVWXYZ\n",
      "ABCDEFGHIJKLMNOPQRSTUVWXYZ\n",
      "ABCDEFGHIJKLMNOPQRSTUVWXYZ\n",
      "ABCDEFGHIJKLMNOPQRSTUVWXYZ\n",
      "ABCDEFGHIJKLMNOPQRSTUVWXYZ\n",
      "ABCDEFGHIJKLMNOPQRSTUVWXYZ\n",
      "ABCDEFGHIJKLMNOPQRSTUVWXYZ\n",
      "ABCDEFGHIJKLMNOPQRSTUVWXYZ\n",
      "ABCDEFGHIJKLMNOPQRSTUVWXYZ\n",
      "ABCDEFGHIJKLMNOPQRSTUVWXYZ\n",
      "ABCDEFGHIJKLMNOPQRSTUVWXYZ\n",
      "ABCDEFGHIJKLMNOPQRSTUVWXYZ\n",
      "ABCDEFGHIJKLMNOPQRSTUVWXYZ\n",
      "ABCDEFGHIJKLMNOPQRSTUVWXYZ\n",
      "ABCDEFGHIJKLMNOPQRSTUVWXYZ\n",
      "ABCDEFGHIJKLMNOPQRSTUVWXYZ\n",
      "ABCDEFGHIJKLMNOPQRSTUVWXYZ\n",
      "ABCDEFGHIJKLMNOPQRSTUVWXYZ\n",
      "ABCDEFGHIJKLMNOPQRSTUVWXYZ\n"
     ]
    }
   ],
   "source": [
    "n=int(input(\"Enter the number of rows:\"))\n",
    "for i in range(1,n+1):\n",
    "    for j in range(1,n+1):\n",
    "        print(chr(64+j),end=\"\")\n",
    "    print()"
   ]
  },
  {
   "cell_type": "code",
   "execution_count": 75,
   "id": "87f171c4-b4a8-4536-969e-bbff1350aa74",
   "metadata": {},
   "outputs": [
    {
     "name": "stdin",
     "output_type": "stream",
     "text": [
      "Enter the number of rows: 10\n"
     ]
    },
    {
     "name": "stdout",
     "output_type": "stream",
     "text": [
      "10 10 10 10 10 10 10 10 10 10 \n",
      "9 9 9 9 9 9 9 9 9 9 \n",
      "8 8 8 8 8 8 8 8 8 8 \n",
      "7 7 7 7 7 7 7 7 7 7 \n",
      "6 6 6 6 6 6 6 6 6 6 \n",
      "5 5 5 5 5 5 5 5 5 5 \n",
      "4 4 4 4 4 4 4 4 4 4 \n",
      "3 3 3 3 3 3 3 3 3 3 \n",
      "2 2 2 2 2 2 2 2 2 2 \n",
      "1 1 1 1 1 1 1 1 1 1 \n"
     ]
    }
   ],
   "source": [
    "n=int(input(\"Enter the number of rows:\"))\n",
    "for i in range(1,n+1):\n",
    "    for j in range(1,n+1):\n",
    "        print(n+1-i,end=\" \")\n",
    "    print()"
   ]
  },
  {
   "cell_type": "code",
   "execution_count": 97,
   "id": "e25419f8-3ef6-4e53-8bd8-91ccc36121a4",
   "metadata": {},
   "outputs": [
    {
     "name": "stdin",
     "output_type": "stream",
     "text": [
      "Enter the number of rows: 5\n"
     ]
    },
    {
     "name": "stdout",
     "output_type": "stream",
     "text": [
      "5 4 2 1 \n",
      "5 4 2 1 \n",
      "5 4 2 1 \n",
      "5 4 2 1 \n",
      "5 4 2 1 \n"
     ]
    }
   ],
   "source": [
    "n=int(input(\"Enter the number of rows:\"))\n",
    "for i in range(1,n+1):\n",
    "    for j in range(1,n+1):\n",
    "        \n",
    "        if j==3:\n",
    "            continue\n",
    "            \n",
    "        print(n+1-j,end=\" \")\n",
    "    print()"
   ]
  },
  {
   "cell_type": "code",
   "execution_count": 99,
   "id": "fafd6820-30b9-4e72-942a-d77225a85b30",
   "metadata": {},
   "outputs": [
    {
     "name": "stdin",
     "output_type": "stream",
     "text": [
      "Enter the number of rows: 5\n"
     ]
    },
    {
     "name": "stdout",
     "output_type": "stream",
     "text": [
      "E E E E E \n",
      "D D D D D \n",
      "C C C C C \n",
      "B B B B B \n",
      "A A A A A \n"
     ]
    }
   ],
   "source": [
    "n=int(input(\"Enter the number of rows:\"))\n",
    "for i in range(1,n+1):\n",
    "    for j in range(1,n+1):\n",
    "        print(chr(65+n-i),end=\" \")\n",
    "    print()"
   ]
  },
  {
   "cell_type": "code",
   "execution_count": 109,
   "id": "3e36f85a-c1af-483e-97a9-c882feafbb2b",
   "metadata": {},
   "outputs": [
    {
     "name": "stdin",
     "output_type": "stream",
     "text": [
      "Enter the number of rows: 5\n"
     ]
    },
    {
     "name": "stdout",
     "output_type": "stream",
     "text": [
      "E D C B A \n",
      "E D C B A \n",
      "E D C B A \n",
      "E D C B A \n",
      "E D C B A \n"
     ]
    }
   ],
   "source": [
    "n=int(input(\"Enter the number of rows:\"))\n",
    "for i in range(1,n+1):\n",
    "    for j in range(1,n+1):\n",
    "        print(chr(65+n-j),end=\" \")\n",
    "    print()"
   ]
  },
  {
   "cell_type": "code",
   "execution_count": 113,
   "id": "76eee55e-5d1c-46e7-82fd-cd36414279c2",
   "metadata": {},
   "outputs": [
    {
     "name": "stdin",
     "output_type": "stream",
     "text": [
      "Enter the number of rows 5\n"
     ]
    },
    {
     "name": "stdout",
     "output_type": "stream",
     "text": [
      "* \n",
      "* * \n",
      "* * * \n",
      "* * * * \n",
      "* * * * * \n"
     ]
    }
   ],
   "source": [
    "n=int(input(\"Enter the number of rows\"))\n",
    "for i in range(1,n+1):\n",
    "    for j in range(1,i+1):\n",
    "        print(\"*\",end=\" \")\n",
    "    print()"
   ]
  },
  {
   "cell_type": "code",
   "execution_count": 115,
   "id": "dcc6ca34-1b86-4fc4-bea3-086c33196276",
   "metadata": {},
   "outputs": [
    {
     "name": "stdin",
     "output_type": "stream",
     "text": [
      "Enter the number of rows 5\n"
     ]
    },
    {
     "name": "stdout",
     "output_type": "stream",
     "text": [
      "* \n",
      "* * \n",
      "* * * \n",
      "* * * * \n",
      "* * * * * \n"
     ]
    }
   ],
   "source": [
    "n=int(input(\"Enter the number of rows\"))\n",
    "for i in range(1,n+1):\n",
    "    print(\"* \"*i)"
   ]
  },
  {
   "cell_type": "code",
   "execution_count": 123,
   "id": "05ab601e-ec24-4ffa-b5b5-d2c31d3c6a53",
   "metadata": {},
   "outputs": [
    {
     "name": "stdin",
     "output_type": "stream",
     "text": [
      "Enter the number of rows: 5\n"
     ]
    },
    {
     "name": "stdout",
     "output_type": "stream",
     "text": [
      "1 \n",
      "2 2 \n",
      "3 3 3 \n",
      "4 4 4 4 \n",
      "5 5 5 5 5 \n"
     ]
    }
   ],
   "source": [
    "n=int(input(\"Enter the number of rows:\"))\n",
    "for i in range(1,n+1):\n",
    "    for j in range(1,i+1):\n",
    "        print(i,end=\" \")\n",
    "    print()"
   ]
  },
  {
   "cell_type": "code",
   "execution_count": 125,
   "id": "4b6cc7dc-d710-4f26-a3db-de652e5d1232",
   "metadata": {},
   "outputs": [
    {
     "name": "stdin",
     "output_type": "stream",
     "text": [
      "Enter the number of rows: 5\n"
     ]
    },
    {
     "name": "stdout",
     "output_type": "stream",
     "text": [
      "1 \n",
      "1 2 \n",
      "1 2 3 \n",
      "1 2 3 4 \n",
      "1 2 3 4 5 \n"
     ]
    }
   ],
   "source": [
    "n=int(input(\"Enter the number of rows:\"))\n",
    "for i in range(1,n+1):\n",
    "    for j in range(1,i+1):\n",
    "        print(j,end=\" \")\n",
    "    print()"
   ]
  },
  {
   "cell_type": "code",
   "execution_count": null,
   "id": "81570ad4-0782-4f90-aa9c-d398b9886fab",
   "metadata": {},
   "outputs": [],
   "source": []
  }
 ],
 "metadata": {
  "kernelspec": {
   "display_name": "Python 3 (ipykernel)",
   "language": "python",
   "name": "python3"
  },
  "language_info": {
   "codemirror_mode": {
    "name": "ipython",
    "version": 3
   },
   "file_extension": ".py",
   "mimetype": "text/x-python",
   "name": "python",
   "nbconvert_exporter": "python",
   "pygments_lexer": "ipython3",
   "version": "3.12.4"
  }
 },
 "nbformat": 4,
 "nbformat_minor": 5
}
